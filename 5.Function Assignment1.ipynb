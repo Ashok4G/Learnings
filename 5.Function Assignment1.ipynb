{
 "cells": [
  {
   "cell_type": "code",
   "execution_count": 9,
   "id": "10ecde92-198e-4886-aedc-88602045d519",
   "metadata": {},
   "outputs": [],
   "source": [
    "AItopiclist =[\"Machine Learning\",\"Neural Networks\",\"Vision\",\"Robotics\",\"Speech Processing\",\"Natural Language Processing\"]\n",
    "def Subfields():\n",
    "    print(\"Sub-fields in AI are:\")\n",
    "    for i in AItopiclist:\n",
    "        print(i)\n",
    "        "
   ]
  },
  {
   "cell_type": "code",
   "execution_count": 11,
   "id": "1ad8028c-3451-44f6-887e-9e090afb7564",
   "metadata": {},
   "outputs": [
    {
     "name": "stdout",
     "output_type": "stream",
     "text": [
      "Sub-fields in AI are:\n",
      "Machine Learning, Neural Networks, Vision, Robotics, Speech Processing, Natural Language Processing, "
     ]
    }
   ],
   "source": [
    "Subfields."
   ]
  },
  {
   "cell_type": "code",
   "execution_count": 59,
   "id": "ed3abdd3-6c2e-4a3f-87f1-1da326bf6012",
   "metadata": {},
   "outputs": [],
   "source": [
    "def OddEven(num):\n",
    "    if num % 2 == 0:\n",
    "        #print(f\" {num} is Even number\")\n",
    "        output = \"Even\"\n",
    "    else:\n",
    "        #print(f\" {num} is Odd number\")\n",
    "        output = \"Odd\"\n",
    "    return output\n",
    "\n",
    "        "
   ]
  },
  {
   "cell_type": "code",
   "execution_count": 65,
   "id": "4f267258-68cb-4de1-90f9-2f076871f62b",
   "metadata": {},
   "outputs": [
    {
     "name": "stdin",
     "output_type": "stream",
     "text": [
      "Enter a number:  1234567890111213141516171819100\n"
     ]
    },
    {
     "name": "stdout",
     "output_type": "stream",
     "text": [
      "1234567890111213141516171819100 is Even number\n"
     ]
    }
   ],
   "source": [
    "num = int(input(\"Enter a number: \"))\n",
    "check=OddEven(num)\n",
    "print(f\"{num} is {check} number\")"
   ]
  },
  {
   "cell_type": "code",
   "execution_count": 97,
   "id": "e77dc6ce-5f18-44ae-a843-a7ab90f1330c",
   "metadata": {},
   "outputs": [],
   "source": [
    "def Eligibility():\n",
    "    Gender = input(\"Your Gender: \")\n",
    "    Age= int(input(\"Your Age: \"))\n",
    "    if (Age>=18 and Gender.upper() == \"FEMALE\") or (Age>=20 and Gender.upper() == \"MALE\"):\n",
    "        print(\"ELIGIBLE\")\n",
    "    else:\n",
    "        print(\"NOT ELIGIBLE\")"
   ]
  },
  {
   "cell_type": "code",
   "execution_count": 107,
   "id": "ae548a0b-b1a4-4e5b-a9b0-f6b2f2f5bd21",
   "metadata": {},
   "outputs": [
    {
     "name": "stdin",
     "output_type": "stream",
     "text": [
      "Your Gender:  male\n",
      "Your Age:  19\n"
     ]
    },
    {
     "name": "stdout",
     "output_type": "stream",
     "text": [
      "NOT ELIGIBLE\n"
     ]
    }
   ],
   "source": [
    "Eligibility()"
   ]
  },
  {
   "cell_type": "code",
   "execution_count": 119,
   "id": "0ca31279-b921-4faf-80e8-2df3ac41cb58",
   "metadata": {},
   "outputs": [],
   "source": [
    "def percentage():\n",
    "    sub1=int(input(\"Subject1= \"))\n",
    "    sub2=int(input(\"Subject2= \"))\n",
    "    sub3=int(input(\"Subject3= \"))\n",
    "    sub4=int(input(\"Subject4= \"))\n",
    "    sub5=int(input(\"Subject5= \"))\n",
    "    Tot=sub1+sub2+sub3+sub4+sub5\n",
    "    print(\"Total : \",tot)\n",
    "    print(\"Percentage : \",tot/5)"
   ]
  },
  {
   "cell_type": "code",
   "execution_count": 117,
   "id": "92efb50c-8438-4ec4-b16c-73ed6f449f01",
   "metadata": {},
   "outputs": [
    {
     "name": "stdin",
     "output_type": "stream",
     "text": [
      "Subject1=  98\n",
      "Subject2=  87\n",
      "Subject3=  95\n",
      "Subject4=  95\n",
      "Subject5=  93\n"
     ]
    },
    {
     "name": "stdout",
     "output_type": "stream",
     "text": [
      "Total :  468\n",
      "Percentage :  93.6\n"
     ]
    }
   ],
   "source": [
    "percentage()"
   ]
  },
  {
   "cell_type": "code",
   "execution_count": 125,
   "id": "4ef38859-e1cf-4039-a3b0-0c36ae9b1447",
   "metadata": {},
   "outputs": [],
   "source": [
    "def triangle():\n",
    "    height=int(input(\"Height: \"))\n",
    "    breadth=int(input(\"Breadth: \"))\n",
    "    print(\"Area formula: (Height*Breadth)/2\")\n",
    "    print(\"Area of Triange: \",(height*breadth)/2)\n",
    "    height1=int(input(\"Height1: \"))\n",
    "    height2=int(input(\"Height2: \"))\n",
    "    breadth=int(input(\"Breadth: \"))\n",
    "    print(\"Perimeter formula: Height+Height+Breadth\")\n",
    "    print(\"Perimeter of Triangle: \",height1+height2+breadth)"
   ]
  },
  {
   "cell_type": "code",
   "execution_count": 127,
   "id": "91ae58cd-fa83-4e73-bea4-af4297d85423",
   "metadata": {},
   "outputs": [
    {
     "name": "stdin",
     "output_type": "stream",
     "text": [
      "Height:  32\n",
      "Breadth:  34\n"
     ]
    },
    {
     "name": "stdout",
     "output_type": "stream",
     "text": [
      "Area formula: (Height*Breadth)/2\n",
      "Area of Triange:  544.0\n"
     ]
    },
    {
     "name": "stdin",
     "output_type": "stream",
     "text": [
      "Height1:  2\n",
      "Height2:  4\n",
      "Breadth:  4\n"
     ]
    },
    {
     "name": "stdout",
     "output_type": "stream",
     "text": [
      "Perimeter formula: Height+Height+Breadth\n",
      "Perimeter of Triangle:  10\n"
     ]
    }
   ],
   "source": [
    "triangle()"
   ]
  },
  {
   "cell_type": "code",
   "execution_count": null,
   "id": "a9ece049-0ed2-4d0b-bfad-e826d908ac31",
   "metadata": {},
   "outputs": [],
   "source": []
  }
 ],
 "metadata": {
  "kernelspec": {
   "display_name": "Python [conda env:base] *",
   "language": "python",
   "name": "conda-base-py"
  },
  "language_info": {
   "codemirror_mode": {
    "name": "ipython",
    "version": 3
   },
   "file_extension": ".py",
   "mimetype": "text/x-python",
   "name": "python",
   "nbconvert_exporter": "python",
   "pygments_lexer": "ipython3",
   "version": "3.12.7"
  }
 },
 "nbformat": 4,
 "nbformat_minor": 5
}
