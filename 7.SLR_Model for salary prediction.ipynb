{
 "cells": [
  {
   "cell_type": "code",
   "execution_count": 39,
   "id": "71d29f27-730d-47d2-b024-454585e4b7c6",
   "metadata": {},
   "outputs": [],
   "source": [
    "# importing pandas liberary to handle data\n",
    "import pandas as pd\n",
    "# import function to split train and test data from sklearn liberary\n",
    "from sklearn.model_selection import train_test_split\n",
    "#import LinearRegression model from sklearn liberary\n",
    "from sklearn.linear_model import LinearRegression\n",
    "#import metrics liberary\n",
    "from sklearn.metrics import r2_score\n",
    "#liberary to help saving and loading the model\n",
    "import pickle\n"
   ]
  },
  {
   "cell_type": "code",
   "execution_count": 41,
   "id": "e4ee4b23-e590-4fb6-b5fc-7029736b70ec",
   "metadata": {},
   "outputs": [
    {
     "name": "stdout",
     "output_type": "stream",
     "text": [
      "0.9588374321858789\n"
     ]
    }
   ],
   "source": [
    "# read the data source\n",
    "datasheet = pd.read_csv(\"Salary_Data.csv\")\n",
    "\n",
    "#assign independent(x) and dependent(y) variable\n",
    "independent = datasheet[[\"YearsExperience\"]]\n",
    "dependent = datasheet[[\"Salary\"]]\n",
    "\n",
    "# split train and test data and assign it to respective variable\n",
    "in_train, in_test, de_train, de_test = train_test_split(independent, dependent, train_size=0.3, random_state=0)\n",
    "in_train\n",
    "\n",
    "#assign all functions from LinearRegression\n",
    "regressor = LinearRegression()\n",
    "\n",
    "#submit the train data to model and find weight and intercept\n",
    "regressor.fit(in_train,de_train)\n",
    "\n",
    "#print the identified weight\n",
    "#print(regressor.coef_)\n",
    "\n",
    "#print the intercept\n",
    "#print(regressor.intercept_)\n",
    "\n",
    "#evaluate the model. Predict from test set\n",
    "de_predict = regressor.predict(in_test)\n",
    "\n",
    "#validate the model using r2 metrics by passing the test output and predicted output\n",
    "r_score = r2_score(de_test,de_predict)\n",
    "print (r_score)\n",
    "\n",
    "#save the model\n",
    "filename = \"Final_model.sav\"\n",
    "pickle.dump(regressor,open(filename,'wb'))\n",
    "\n",
    "\n"
   ]
  },
  {
   "cell_type": "code",
   "execution_count": 60,
   "id": "22541c79-1aa7-4ad8-9fcc-eca32dba46ca",
   "metadata": {},
   "outputs": [
    {
     "name": "stdin",
     "output_type": "stream",
     "text": [
      "Enter the years of experince:  5\n"
     ]
    },
    {
     "name": "stdout",
     "output_type": "stream",
     "text": [
      "salary predicted for 5 of experiencce is: [[72833.996786]]\n"
     ]
    },
    {
     "name": "stderr",
     "output_type": "stream",
     "text": [
      "C:\\Anaconda3\\Lib\\site-packages\\sklearn\\base.py:493: UserWarning: X does not have valid feature names, but LinearRegression was fitted with feature names\n",
      "  warnings.warn(\n"
     ]
    }
   ],
   "source": [
    "# load the object (model) from saved file\n",
    "loaded_model = pickle.load(open(\"Final_model.sav\",'rb'))\n",
    "\n",
    "#ask user to feed input to predict the value\n",
    "input4predict = int(input(\"Enter the years of experince: \"))\n",
    "result = loaded_model.predict([[input4predict]])3.\n",
    "print(\"salary predicted for {0} of experiencce is: {1}\".format(input4predict,result))"
   ]
  },
  {
   "cell_type": "code",
   "execution_count": null,
   "id": "1689184e-2da2-4f5b-b054-0860a8b2d388",
   "metadata": {},
   "outputs": [],
   "source": []
  },
  {
   "cell_type": "code",
   "execution_count": null,
   "id": "cde98238-0f2b-41f6-ada8-a3f1f631125c",
   "metadata": {},
   "outputs": [],
   "source": []
  }
 ],
 "metadata": {
  "kernelspec": {
   "display_name": "Python [conda env:base] *",
   "language": "python",
   "name": "conda-base-py"
  },
  "language_info": {
   "codemirror_mode": {
    "name": "ipython",
    "version": 3
   },
   "file_extension": ".py",
   "mimetype": "text/x-python",
   "name": "python",
   "nbconvert_exporter": "python",
   "pygments_lexer": "ipython3",
   "version": "3.12.7"
  }
 },
 "nbformat": 4,
 "nbformat_minor": 5
}
