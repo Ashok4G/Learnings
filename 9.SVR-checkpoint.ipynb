{
 "cells": [
  {
   "cell_type": "code",
   "execution_count": 112,
   "id": "cdadab16-65bb-45ab-a227-757ade5e87e7",
   "metadata": {},
   "outputs": [],
   "source": [
    "import pandas as pd\n",
    "from sklearn.model_selection import train_test_split\n",
    "from sklearn.svm import SVR\n",
    "from sklearn.metrics import r2_score\n",
    "from sklearn.preprocessing import StandardScaler"
   ]
  },
  {
   "cell_type": "code",
   "execution_count": 128,
   "id": "e5d2b551-6ac9-455e-a439-18f52ef1ff0d",
   "metadata": {},
   "outputs": [
    {
     "name": "stderr",
     "output_type": "stream",
     "text": [
      "C:\\Anaconda3\\Lib\\site-packages\\sklearn\\utils\\validation.py:1339: DataConversionWarning: A column-vector y was passed when a 1d array was expected. Please change the shape of y to (n_samples, ), for example using ravel().\n",
      "  y = column_or_1d(y, warn=True)\n"
     ]
    },
    {
     "name": "stdout",
     "output_type": "stream",
     "text": [
      "0.9439403318727383\n"
     ]
    }
   ],
   "source": [
    "dataset = pd.read_csv(\"50_Startups.csv\")\n",
    "dataset = pd.get_dummies(dataset,drop_first=True,dtype=int)\n",
    "\n",
    "indp = dataset[[\"R&D Spend\", \"Administration\",\t\"Marketing Spend\",\t\"State_Florida\",\t\"State_New York\"]]\n",
    "depd = dataset[[\"Profit\"]]\n",
    "indp_train, indp_test, depd_train, depd_test = train_test_split(indp,depd,test_size=0.3,random_state=0)\n",
    "\n",
    "#ss = StandardScaler()\n",
    "#indp_train = ss.fit_transform(indp_train)\n",
    "#indp_test = ss.transform(indp_test)\n",
    "\n",
    "regressor = SVR(kernel = \"linear\",C=0.4)\n",
    "regressor.fit(indp_train,depd_train)\n",
    "\n",
    "depd_predict = regressor.predict(indp_test)\n",
    "r_score = r2_score(depd_test,depd_predict)\n",
    "print (r_score)\n"
   ]
  },
  {
   "cell_type": "code",
   "execution_count": null,
   "id": "67fe5e4e-f135-4891-a49b-73ccf8b19603",
   "metadata": {},
   "outputs": [],
   "source": []
  }
 ],
 "metadata": {
  "kernelspec": {
   "display_name": "Python [conda env:base] *",
   "language": "python",
   "name": "conda-base-py"
  },
  "language_info": {
   "codemirror_mode": {
    "name": "ipython",
    "version": 3
   },
   "file_extension": ".py",
   "mimetype": "text/x-python",
   "name": "python",
   "nbconvert_exporter": "python",
   "pygments_lexer": "ipython3",
   "version": "3.12.7"
  }
 },
 "nbformat": 4,
 "nbformat_minor": 5
}
