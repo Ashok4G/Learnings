{
 "cells": [
  {
   "cell_type": "code",
   "execution_count": 48,
   "id": "21c44cc8-b942-4ea7-b92e-2070ef9e3af8",
   "metadata": {},
   "outputs": [],
   "source": [
    "import pandas as pd\n",
    "from sklearn.model_selection import train_test_split\n",
    "from sklearn.ensemble import RandomForestRegressor\n",
    "from sklearn.metrics import r2_score\n",
    "import pickle"
   ]
  },
  {
   "cell_type": "code",
   "execution_count": 50,
   "id": "46696f2c-c94b-48e0-bfc6-f60596baca5d",
   "metadata": {},
   "outputs": [
    {
     "name": "stderr",
     "output_type": "stream",
     "text": [
      "C:\\Anaconda3\\Lib\\site-packages\\sklearn\\base.py:1473: DataConversionWarning: A column-vector y was passed when a 1d array was expected. Please change the shape of y to (n_samples,), for example using ravel().\n",
      "  return fit_method(estimator, *args, **kwargs)\n"
     ]
    },
    {
     "name": "stdout",
     "output_type": "stream",
     "text": [
      "0.9454739159531251\n",
      "[35271.26583333]\n"
     ]
    },
    {
     "name": "stderr",
     "output_type": "stream",
     "text": [
      "C:\\Anaconda3\\Lib\\site-packages\\sklearn\\base.py:493: UserWarning: X does not have valid feature names, but RandomForestRegressor was fitted with feature names\n",
      "  warnings.warn(\n"
     ]
    }
   ],
   "source": [
    "dataset = pd.read_csv(\"50_Startups.csv\")\n",
    "dataset = pd.get_dummies(dataset, drop_first=True,dtype = int)\n",
    "\n",
    "indp = dataset[['R&D Spend', 'Administration', 'Marketing Spend', 'State_Florida', 'State_New York']]\n",
    "depd = dataset[['Profit']]\n",
    "\n",
    "indp_train,indp_test,depd_train,depd_test = train_test_split(indp,depd,test_size=0.3, random_state=0)\n",
    "\n",
    "regressor = RandomForestRegressor(n_estimators = 60,random_state=0)\n",
    "regressor.fit(indp_train,depd_train)\n",
    "\n",
    "depd_predict = regressor.predict(indp_test)\n",
    "\n",
    "r_score = r2_score(depd_test,depd_predict)\n",
    "print(r_score)\n",
    "\n",
    "filename = \"finalised_RandomForestRegressor_model.sav\"\n",
    "pickle.dump(regressor,open(filename,'wb'))\n",
    "\n",
    "\n",
    "loaded_model = pickle.load(open(\"finalised_RandomForestRegressor_model.sav\",'rb'))\n",
    "result = loaded_model.predict([[100,200,100,1,0]])\n",
    "print (result)\n",
    "\n",
    "\n"
   ]
  },
  {
   "cell_type": "code",
   "execution_count": null,
   "id": "b904a1ee-18ff-480f-821f-b763ead0f693",
   "metadata": {},
   "outputs": [],
   "source": []
  }
 ],
 "metadata": {
  "kernelspec": {
   "display_name": "Python [conda env:base] *",
   "language": "python",
   "name": "conda-base-py"
  },
  "language_info": {
   "codemirror_mode": {
    "name": "ipython",
    "version": 3
   },
   "file_extension": ".py",
   "mimetype": "text/x-python",
   "name": "python",
   "nbconvert_exporter": "python",
   "pygments_lexer": "ipython3",
   "version": "3.12.7"
  }
 },
 "nbformat": 4,
 "nbformat_minor": 5
}
