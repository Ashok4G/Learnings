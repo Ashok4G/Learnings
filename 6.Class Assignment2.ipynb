{
 "cells": [
  {
   "cell_type": "code",
   "execution_count": 6,
   "id": "a9ece049-0ed2-4d0b-bfad-e826d908ac31",
   "metadata": {},
   "outputs": [],
   "source": [
    "class SubfieldsInAI():\n",
    "    def Subfields():\n",
    "        AItopiclist =[\"Machine Learning\",\"Neural Networks\",\"Vision\",\"Robotics\",\"Speech Processing\",\"Natural Language Processing\"]\n",
    "        print(\"Sub-fields in AI are:\")\n",
    "        for i in AItopiclist:\n",
    "            print(i)"
   ]
  },
  {
   "cell_type": "code",
   "execution_count": 8,
   "id": "c2a04871-5dbd-4a3e-8f60-9940eaa8167d",
   "metadata": {},
   "outputs": [
    {
     "name": "stdout",
     "output_type": "stream",
     "text": [
      "Sub-fields in AI are:\n",
      "Machine Learning\n",
      "Neural Networks\n",
      "Vision\n",
      "Robotics\n",
      "Speech Processing\n",
      "Natural Language Processing\n"
     ]
    }
   ],
   "source": [
    "SubfieldsInAI.Subfields()"
   ]
  },
  {
   "cell_type": "code",
   "execution_count": 22,
   "id": "bf02eb08-9765-4ab0-886a-9be39cb83fca",
   "metadata": {},
   "outputs": [],
   "source": [
    "class oddEven():\n",
    "    def oddEven():\n",
    "        num=int(input(\"Enter a number: \"))\n",
    "        if num % 2 == 0:\n",
    "            #print(f\" {num} is Even number\")\n",
    "            output = \"Even\"\n",
    "        else:\n",
    "            #print(f\" {num} is Odd number\")\n",
    "            output = \"Odd\"\n",
    "        return output"
   ]
  },
  {
   "cell_type": "code",
   "execution_count": 24,
   "id": "3b1ef01e-0584-47e4-a841-a05b4139103b",
   "metadata": {},
   "outputs": [
    {
     "name": "stdin",
     "output_type": "stream",
     "text": [
      "Enter a number:  55\n"
     ]
    },
    {
     "data": {
      "text/plain": [
       "'Odd'"
      ]
     },
     "execution_count": 24,
     "metadata": {},
     "output_type": "execute_result"
    }
   ],
   "source": [
    "oddEven.oddEven()"
   ]
  },
  {
   "cell_type": "code",
   "execution_count": 28,
   "id": "d9b3c6ec-c805-4330-b9cc-339d6666a279",
   "metadata": {},
   "outputs": [],
   "source": [
    "class EligibilityForMarriage():\n",
    "    def Eligibility():\n",
    "        Gender = input(\"Your Gender: \")\n",
    "        Age= int(input(\"Your Age: \"))\n",
    "        if (Age>=18 and Gender.upper() == \"FEMALE\") or (Age>=20 and Gender.upper() == \"MALE\"):\n",
    "            print(\"ELIGIBLE\")\n",
    "        else:\n",
    "            print(\"NOT ELIGIBLE\")"
   ]
  },
  {
   "cell_type": "code",
   "execution_count": 30,
   "id": "ed19b346-4528-4de1-aa99-2cdb4ed926c2",
   "metadata": {},
   "outputs": [
    {
     "name": "stdin",
     "output_type": "stream",
     "text": [
      "Your Gender:  Male\n",
      "Your Age:  19\n"
     ]
    },
    {
     "name": "stdout",
     "output_type": "stream",
     "text": [
      "NOT ELIGIBLE\n"
     ]
    }
   ],
   "source": [
    "EligibilityForMarriage.Eligibility()"
   ]
  },
  {
   "cell_type": "code",
   "execution_count": 36,
   "id": "2205b06f-22ad-4fe5-8757-164af76bd2f1",
   "metadata": {},
   "outputs": [],
   "source": [
    "class FindPercent():\n",
    "    def percentage():\n",
    "        sub1=int(input(\"Subject1= \"))\n",
    "        sub2=int(input(\"Subject2= \"))\n",
    "        sub3=int(input(\"Subject3= \"))\n",
    "        sub4=int(input(\"Subject4= \"))\n",
    "        sub5=int(input(\"Subject5= \"))\n",
    "        tot=sub1+sub2+sub3+sub4+sub5\n",
    "        print(\"Total : \",tot)\n",
    "        print(\"Percentage : \",tot/5)"
   ]
  },
  {
   "cell_type": "code",
   "execution_count": 38,
   "id": "d425273b-6b99-4c00-8f36-de4043cbb574",
   "metadata": {},
   "outputs": [
    {
     "name": "stdin",
     "output_type": "stream",
     "text": [
      "Subject1=  99\n",
      "Subject2=  88\n",
      "Subject3=  77\n",
      "Subject4=  66\n",
      "Subject5=  55\n"
     ]
    },
    {
     "name": "stdout",
     "output_type": "stream",
     "text": [
      "Total :  385\n",
      "Percentage :  77.0\n"
     ]
    }
   ],
   "source": [
    "FindPercent.percentage()"
   ]
  },
  {
   "cell_type": "code",
   "execution_count": 40,
   "id": "136229d1-3eb5-4f13-a90f-1592f63ca48c",
   "metadata": {},
   "outputs": [],
   "source": [
    "class triangle():\n",
    "    def triangle():\n",
    "        height=int(input(\"Height: \"))\n",
    "        breadth=int(input(\"Breadth: \"))\n",
    "        print(\"Area formula: (Height*Breadth)/2\")\n",
    "        print(\"Area of Triange: \",(height*breadth)/2)\n",
    "        height1=int(input(\"Height1: \"))\n",
    "        height2=int(input(\"Height2: \"))\n",
    "        breadth=int(input(\"Breadth: \"))\n",
    "        print(\"Perimeter formula: Height+Height+Breadth\")\n",
    "        print(\"Perimeter of Triangle: \",height1+height2+breadth)\n",
    "    "
   ]
  },
  {
   "cell_type": "code",
   "execution_count": 42,
   "id": "bf3f4adc-3595-4050-a93f-23ca5543be44",
   "metadata": {},
   "outputs": [
    {
     "name": "stdin",
     "output_type": "stream",
     "text": [
      "Height:  32\n",
      "Breadth:  34\n"
     ]
    },
    {
     "name": "stdout",
     "output_type": "stream",
     "text": [
      "Area formula: (Height*Breadth)/2\n",
      "Area of Triange:  544.0\n"
     ]
    },
    {
     "name": "stdin",
     "output_type": "stream",
     "text": [
      "Height1:  2\n",
      "Height2:  4\n",
      "Breadth:  4\n"
     ]
    },
    {
     "name": "stdout",
     "output_type": "stream",
     "text": [
      "Perimeter formula: Height+Height+Breadth\n",
      "Perimeter of Triangle:  10\n"
     ]
    }
   ],
   "source": [
    "triangle.triangle()"
   ]
  },
  {
   "cell_type": "code",
   "execution_count": 6,
   "id": "2e5e06db-5fa7-460a-8414-d7c0335a4c09",
   "metadata": {},
   "outputs": [
    {
     "ename": "SyntaxError",
     "evalue": "invalid syntax (Multifunction.py, line 1)",
     "output_type": "error",
     "traceback": [
      "Traceback \u001b[1;36m(most recent call last)\u001b[0m:\n",
      "\u001b[0m  File \u001b[0;32mC:\\Anaconda3\\Lib\\site-packages\\IPython\\core\\interactiveshell.py:3577\u001b[0m in \u001b[0;35mrun_code\u001b[0m\n    exec(code_obj, self.user_global_ns, self.user_ns)\u001b[0m\n",
      "\u001b[1;36m  Cell \u001b[1;32mIn[6], line 1\u001b[1;36m\n\u001b[1;33m    from Multifunction import Multifunction\u001b[1;36m\n",
      "\u001b[1;36m  File \u001b[1;32m~\\Backup\\Learning\\AI Course Tamil\\Multifunction.py:1\u001b[1;36m\u001b[0m\n\u001b[1;33m    Class Multifunction():\u001b[0m\n\u001b[1;37m          ^\u001b[0m\n\u001b[1;31mSyntaxError\u001b[0m\u001b[1;31m:\u001b[0m invalid syntax\n"
     ]
    }
   ],
   "source": [
    "from Multifunction import Multifunction"
   ]
  },
  {
   "cell_type": "code",
   "execution_count": null,
   "id": "21870164-62e6-4d9b-b01d-6727283ff1a5",
   "metadata": {},
   "outputs": [],
   "source": []
  }
 ],
 "metadata": {
  "kernelspec": {
   "display_name": "Python [conda env:base] *",
   "language": "python",
   "name": "conda-base-py"
  },
  "language_info": {
   "codemirror_mode": {
    "name": "ipython",
    "version": 3
   },
   "file_extension": ".py",
   "mimetype": "text/x-python",
   "name": "python",
   "nbconvert_exporter": "python",
   "pygments_lexer": "ipython3",
   "version": "3.12.7"
  }
 },
 "nbformat": 4,
 "nbformat_minor": 5
}
